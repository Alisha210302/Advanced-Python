{
 "cells": [
  {
   "cell_type": "code",
   "execution_count": 9,
   "id": "967cbe62-337b-45ea-9143-f48853f77573",
   "metadata": {},
   "outputs": [],
   "source": [
    "csv_data = \"\"\"\n",
    "# This is a comment line\n",
    "1.0; 2.0; 3.0\n",
    "# Another comment\n",
    "4.0; 5.0; 6.0\n",
    "7.0; 8.0; 9.0\n",
    "\"\"\""
   ]
  },
  {
   "cell_type": "code",
   "execution_count": 10,
   "id": "d70aab1a-9e6e-4838-879b-72ea20c9ca11",
   "metadata": {},
   "outputs": [],
   "source": [
    "with open('data_complex.csv','w') as file:\n",
    "    file.write(csv_data)"
   ]
  },
  {
   "cell_type": "code",
   "execution_count": 11,
   "id": "b23bb4fe-7f4b-42a6-bea3-2de291b37747",
   "metadata": {},
   "outputs": [],
   "source": [
    "import numpy as np"
   ]
  },
  {
   "cell_type": "code",
   "execution_count": 12,
   "id": "e69fe08f-728f-489f-8f22-bd2082763702",
   "metadata": {},
   "outputs": [],
   "source": [
    "data = np.genfromtxt('data_complex.csv',delimiter=';',comments='#')"
   ]
  },
  {
   "cell_type": "code",
   "execution_count": 13,
   "id": "2caa0112-8f00-4dd2-9958-812ddbd352cc",
   "metadata": {},
   "outputs": [
    {
     "data": {
      "text/plain": [
       "array([[1., 2., 3.],\n",
       "       [4., 5., 6.],\n",
       "       [7., 8., 9.]])"
      ]
     },
     "execution_count": 13,
     "metadata": {},
     "output_type": "execute_result"
    }
   ],
   "source": [
    "data"
   ]
  },
  {
   "cell_type": "code",
   "execution_count": null,
   "id": "2ffb4891-b157-4f90-8d2a-7af2946e203b",
   "metadata": {},
   "outputs": [],
   "source": []
  }
 ],
 "metadata": {
  "kernelspec": {
   "display_name": "Python 3 (ipykernel)",
   "language": "python",
   "name": "python3"
  },
  "language_info": {
   "codemirror_mode": {
    "name": "ipython",
    "version": 3
   },
   "file_extension": ".py",
   "mimetype": "text/x-python",
   "name": "python",
   "nbconvert_exporter": "python",
   "pygments_lexer": "ipython3",
   "version": "3.12.4"
  }
 },
 "nbformat": 4,
 "nbformat_minor": 5
}

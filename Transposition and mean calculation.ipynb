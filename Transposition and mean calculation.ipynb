{
 "cells": [
  {
   "cell_type": "code",
   "execution_count": 1,
   "id": "ffe7f19d-cd83-4f4c-bf5e-06063974aa5e",
   "metadata": {},
   "outputs": [],
   "source": [
    "import numpy as np"
   ]
  },
  {
   "cell_type": "code",
   "execution_count": 2,
   "id": "6118fd12-cba5-4296-bf62-e29f67a4ecdb",
   "metadata": {},
   "outputs": [
    {
     "data": {
      "text/plain": [
       "array([[70, 39, 98],\n",
       "       [38, 58, 32],\n",
       "       [88, 11, 59],\n",
       "       [95, 30, 53],\n",
       "       [32, 43, 48]])"
      ]
     },
     "execution_count": 2,
     "metadata": {},
     "output_type": "execute_result"
    }
   ],
   "source": [
    "arr = np.random.randint(10,100,size=(5,3))\n",
    "arr"
   ]
  },
  {
   "cell_type": "code",
   "execution_count": 3,
   "id": "05f7f467-7fcb-4ca4-9079-be9ecf16512d",
   "metadata": {},
   "outputs": [
    {
     "data": {
      "text/plain": [
       "array([[70, 38, 88, 95, 32],\n",
       "       [39, 58, 11, 30, 43],\n",
       "       [98, 32, 59, 53, 48]])"
      ]
     },
     "execution_count": 3,
     "metadata": {},
     "output_type": "execute_result"
    }
   ],
   "source": [
    "arr_transposed = arr.T\n",
    "arr_transposed"
   ]
  },
  {
   "cell_type": "code",
   "execution_count": 7,
   "id": "7a16f96a-5675-4648-851e-252a14f70093",
   "metadata": {},
   "outputs": [],
   "source": [
    "mean_original = np.mean(arr)\n",
    "mean_transposed = np.mean(arr_transposed)\n",
    "\n"
   ]
  },
  {
   "cell_type": "code",
   "execution_count": 8,
   "id": "7191ae81-bd56-460b-8cfc-0d33445bc51d",
   "metadata": {},
   "outputs": [
    {
     "data": {
      "text/plain": [
       "52.93333333333333"
      ]
     },
     "execution_count": 8,
     "metadata": {},
     "output_type": "execute_result"
    }
   ],
   "source": [
    "mean_original"
   ]
  },
  {
   "cell_type": "code",
   "execution_count": 9,
   "id": "5ac867b8-1ef9-4b43-b353-7718d4424e01",
   "metadata": {},
   "outputs": [
    {
     "data": {
      "text/plain": [
       "52.93333333333333"
      ]
     },
     "execution_count": 9,
     "metadata": {},
     "output_type": "execute_result"
    }
   ],
   "source": [
    "mean_transposed"
   ]
  },
  {
   "cell_type": "code",
   "execution_count": null,
   "id": "e2e5aae9-8795-451e-bcf2-7610012d1e90",
   "metadata": {},
   "outputs": [],
   "source": []
  }
 ],
 "metadata": {
  "kernelspec": {
   "display_name": "Python 3 (ipykernel)",
   "language": "python",
   "name": "python3"
  },
  "language_info": {
   "codemirror_mode": {
    "name": "ipython",
    "version": 3
   },
   "file_extension": ".py",
   "mimetype": "text/x-python",
   "name": "python",
   "nbconvert_exporter": "python",
   "pygments_lexer": "ipython3",
   "version": "3.12.4"
  }
 },
 "nbformat": 4,
 "nbformat_minor": 5
}

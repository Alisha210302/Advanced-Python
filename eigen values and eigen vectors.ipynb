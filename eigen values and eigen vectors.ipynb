{
 "cells": [
  {
   "cell_type": "code",
   "execution_count": 37,
   "id": "671e2056-35ae-46ff-9bde-158b1919d512",
   "metadata": {},
   "outputs": [],
   "source": [
    "import numpy as np\n"
   ]
  },
  {
   "cell_type": "code",
   "execution_count": 38,
   "id": "bffe349b-67fc-412f-8478-717e2be99201",
   "metadata": {},
   "outputs": [
    {
     "data": {
      "text/plain": [
       "array([[2, 3, 9],\n",
       "       [9, 9, 2],\n",
       "       [5, 9, 1]])"
      ]
     },
     "execution_count": 38,
     "metadata": {},
     "output_type": "execute_result"
    }
   ],
   "source": [
    "arr1 = np.random.randint(1,10,size=(3,3))\n",
    "arr1"
   ]
  },
  {
   "cell_type": "code",
   "execution_count": 39,
   "id": "6a0a0428-6168-43f6-8dc1-b396e55142c9",
   "metadata": {},
   "outputs": [],
   "source": [
    "vals,vectors = np.linalg.eig(arr1)\n"
   ]
  },
  {
   "cell_type": "code",
   "execution_count": 40,
   "id": "48519ce1-2579-49b4-b726-723be90a21c4",
   "metadata": {},
   "outputs": [
    {
     "data": {
      "text/plain": [
       "array([16.7449223 +0.j        , -2.37246115+3.58117067j,\n",
       "       -2.37246115-3.58117067j])"
      ]
     },
     "execution_count": 40,
     "metadata": {},
     "output_type": "execute_result"
    }
   ],
   "source": [
    "vals"
   ]
  },
  {
   "cell_type": "code",
   "execution_count": 41,
   "id": "548bcb05-c934-43a1-a03e-0c02a00dda95",
   "metadata": {},
   "outputs": [
    {
     "data": {
      "text/plain": [
       "array([[ 0.47368242+0.j        ,  0.73957945+0.j        ,\n",
       "         0.73957945-0.j        ],\n",
       "       [ 0.69133585+0.j        , -0.48226219-0.21629709j,\n",
       "        -0.48226219+0.21629709j],\n",
       "       [ 0.54560032+0.j        , -0.19855509+0.3663835j ,\n",
       "        -0.19855509-0.3663835j ]])"
      ]
     },
     "execution_count": 41,
     "metadata": {},
     "output_type": "execute_result"
    }
   ],
   "source": [
    "vectors"
   ]
  },
  {
   "cell_type": "code",
   "execution_count": 42,
   "id": "1a2bab65-a33f-457d-9987-95d4c94a8608",
   "metadata": {},
   "outputs": [],
   "source": [
    "np.savetxt('eigen.csv',np.column_stack((vals,vectors)),delimiter = ',',header = 'values,vectors1')"
   ]
  }
 ],
 "metadata": {
  "kernelspec": {
   "display_name": "Python 3 (ipykernel)",
   "language": "python",
   "name": "python3"
  },
  "language_info": {
   "codemirror_mode": {
    "name": "ipython",
    "version": 3
   },
   "file_extension": ".py",
   "mimetype": "text/x-python",
   "name": "python",
   "nbconvert_exporter": "python",
   "pygments_lexer": "ipython3",
   "version": "3.12.4"
  }
 },
 "nbformat": 4,
 "nbformat_minor": 5
}

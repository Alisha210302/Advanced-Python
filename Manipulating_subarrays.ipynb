{
 "cells": [
  {
   "cell_type": "code",
   "execution_count": 15,
   "id": "a1dc1a2f-1e62-4ccf-a7a1-3882bb0342e3",
   "metadata": {},
   "outputs": [],
   "source": [
    "import numpy as np"
   ]
  },
  {
   "cell_type": "code",
   "execution_count": 16,
   "id": "9e8d5178-9fc6-4c38-bbf1-cad960733f83",
   "metadata": {},
   "outputs": [
    {
     "data": {
      "text/plain": [
       "array([[18, 36, 20,  5, 16],\n",
       "       [36, 23, 49,  8, 41],\n",
       "       [18, 40, 39,  2, 42],\n",
       "       [ 5, 21, 15, 13, 14],\n",
       "       [44, 10, 24,  4, 30]])"
      ]
     },
     "execution_count": 16,
     "metadata": {},
     "output_type": "execute_result"
    }
   ],
   "source": [
    "arr = np.random.randint(1,51,size=(5,5))\n",
    "arr"
   ]
  },
  {
   "cell_type": "code",
   "execution_count": 17,
   "id": "04b2366c-8385-4d4f-9a74-8f31a4e17bab",
   "metadata": {},
   "outputs": [
    {
     "data": {
      "text/plain": [
       "array([[18, 36, 20,  5, 16],\n",
       "       [36,  0,  0,  0, 41],\n",
       "       [18,  0,  0,  0, 42],\n",
       "       [ 5,  0,  0,  0, 14],\n",
       "       [44, 10, 24,  4, 30]])"
      ]
     },
     "execution_count": 17,
     "metadata": {},
     "output_type": "execute_result"
    }
   ],
   "source": [
    "arr[1:4 , 1:4] = 0\n",
    "arr"
   ]
  },
  {
   "cell_type": "code",
   "execution_count": null,
   "id": "81767ea6-5a7b-4a09-a4d7-48109695ba51",
   "metadata": {},
   "outputs": [],
   "source": []
  },
  {
   "cell_type": "code",
   "execution_count": null,
   "id": "43063345-9249-4a03-816d-740e3c42fdf4",
   "metadata": {},
   "outputs": [],
   "source": []
  }
 ],
 "metadata": {
  "kernelspec": {
   "display_name": "Python 3 (ipykernel)",
   "language": "python",
   "name": "python3"
  },
  "language_info": {
   "codemirror_mode": {
    "name": "ipython",
    "version": 3
   },
   "file_extension": ".py",
   "mimetype": "text/x-python",
   "name": "python",
   "nbconvert_exporter": "python",
   "pygments_lexer": "ipython3",
   "version": "3.12.4"
  }
 },
 "nbformat": 4,
 "nbformat_minor": 5
}

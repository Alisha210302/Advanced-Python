{
 "cells": [
  {
   "cell_type": "code",
   "execution_count": 43,
   "id": "77d5776e-7a7d-467f-af47-68686e00660f",
   "metadata": {},
   "outputs": [],
   "source": [
    "import numpy as np\n"
   ]
  },
  {
   "cell_type": "code",
   "execution_count": 44,
   "id": "edfe01c2-26d4-48e8-868f-87ad4942a410",
   "metadata": {},
   "outputs": [
    {
     "data": {
      "text/plain": [
       "array([ 1,  2,  3,  4,  5,  6,  7,  8,  9, 10, 11, 12, 13, 14, 15, 16, 17,\n",
       "       18, 19, 20])"
      ]
     },
     "execution_count": 44,
     "metadata": {},
     "output_type": "execute_result"
    }
   ],
   "source": [
    "arr1 = np.arange(1,21)\n",
    "arr1\n",
    "    "
   ]
  },
  {
   "cell_type": "code",
   "execution_count": 45,
   "id": "5d43bd67-50a2-4ec6-b779-fe66210daf40",
   "metadata": {},
   "outputs": [
    {
     "data": {
      "text/plain": [
       "array([[ 1,  2,  3,  4,  5],\n",
       "       [ 6,  7,  8,  9, 10],\n",
       "       [11, 12, 13, 14, 15],\n",
       "       [16, 17, 18, 19, 20]])"
      ]
     },
     "execution_count": 45,
     "metadata": {},
     "output_type": "execute_result"
    }
   ],
   "source": [
    "arr1_reshaped = arr1.reshape((4,5))\n",
    "arr1_reshaped\n"
   ]
  },
  {
   "cell_type": "code",
   "execution_count": 46,
   "id": "85690c0d-ada1-4e5d-9dda-9371e47f20f3",
   "metadata": {},
   "outputs": [
    {
     "data": {
      "text/plain": [
       "array([ 1,  2,  3,  4,  5,  6,  7,  8,  9, 10, 11, 12, 13, 14, 15, 16, 17,\n",
       "       18, 19, 20])"
      ]
     },
     "execution_count": 46,
     "metadata": {},
     "output_type": "execute_result"
    }
   ],
   "source": [
    "arr1_flattened = arr1_reshaped.flatten()\n",
    "arr1_flattened"
   ]
  },
  {
   "cell_type": "code",
   "execution_count": 47,
   "id": "39315b83-716c-4c92-9fd1-5e1f5e7932ca",
   "metadata": {},
   "outputs": [
    {
     "data": {
      "text/plain": [
       "array([[4, 3, 6],\n",
       "       [8, 6, 9],\n",
       "       [6, 7, 7]])"
      ]
     },
     "execution_count": 47,
     "metadata": {},
     "output_type": "execute_result"
    }
   ],
   "source": [
    "arr = np.random.randint(1,10,size=(3,3))\n",
    "arr"
   ]
  },
  {
   "cell_type": "code",
   "execution_count": 48,
   "id": "860cb06b-e896-48c1-a32b-511497297f90",
   "metadata": {},
   "outputs": [
    {
     "data": {
      "text/plain": [
       "array([[4, 8, 6],\n",
       "       [3, 6, 7],\n",
       "       [6, 9, 7]])"
      ]
     },
     "execution_count": 48,
     "metadata": {},
     "output_type": "execute_result"
    }
   ],
   "source": [
    "arr_transpose = arr.T\n",
    "arr_transpose"
   ]
  },
  {
   "cell_type": "code",
   "execution_count": 49,
   "id": "dfdd213c-6a76-40d2-a1ce-923d5e1d55cb",
   "metadata": {},
   "outputs": [
    {
     "data": {
      "text/plain": [
       "array([1, 2, 3, 4, 5])"
      ]
     },
     "execution_count": 49,
     "metadata": {},
     "output_type": "execute_result"
    }
   ],
   "source": [
    "a1 = np.array([1,2,3,4,5])\n",
    "a1"
   ]
  },
  {
   "cell_type": "code",
   "execution_count": 52,
   "id": "0745a4db-3942-41a5-bba3-40d08ffa57bd",
   "metadata": {},
   "outputs": [
    {
     "data": {
      "text/plain": [
       "array([[1, 2, 3, 4, 5],\n",
       "       [6, 7, 8, 9, 1]])"
      ]
     },
     "execution_count": 52,
     "metadata": {},
     "output_type": "execute_result"
    }
   ],
   "source": [
    "a2 = np.array([[1,2,3,4,5],[6,7,8,9,1]])\n",
    "a2"
   ]
  },
  {
   "cell_type": "code",
   "execution_count": 54,
   "id": "9b9cc070-cefc-4527-bb9c-36ede131ddee",
   "metadata": {},
   "outputs": [
    {
     "data": {
      "text/plain": [
       "array([[[1, 2, 3, 4, 5],\n",
       "        [1, 2, 3, 4, 5]],\n",
       "\n",
       "       [[1, 2, 3, 4, 5],\n",
       "        [1, 2, 3, 4, 5]],\n",
       "\n",
       "       [[1, 2, 3, 4, 5],\n",
       "        [1, 2, 3, 4, 5]]])"
      ]
     },
     "execution_count": 54,
     "metadata": {},
     "output_type": "execute_result"
    }
   ],
   "source": [
    "a3 = np.array([[[1,2,3,4,5],[1,2,3,4,5]],[[1,2,3,4,5],[1,2,3,4,5]],[[1,2,3,4,5],[1,2,3,4,5]]])\n",
    "a3"
   ]
  },
  {
   "cell_type": "code",
   "execution_count": 61,
   "id": "b5cc9300-1667-43d2-9533-2b4d07a0efb6",
   "metadata": {},
   "outputs": [],
   "source": [
    "def function(arr):\n",
    "    print(arr.ndim)\n",
    "    print(arr.shape)\n",
    "    print(arr.dtype)\n",
    "    print(arr.size)"
   ]
  },
  {
   "cell_type": "code",
   "execution_count": 62,
   "id": "181afb6a-566e-459b-bd19-32391c2ea8e6",
   "metadata": {},
   "outputs": [
    {
     "name": "stdout",
     "output_type": "stream",
     "text": [
      "1\n",
      "(5,)\n",
      "int32\n",
      "5\n"
     ]
    }
   ],
   "source": [
    "function(a1)"
   ]
  },
  {
   "cell_type": "code",
   "execution_count": 63,
   "id": "9e0fb36e-881e-4ce9-be0b-c7849e748854",
   "metadata": {},
   "outputs": [
    {
     "name": "stdout",
     "output_type": "stream",
     "text": [
      "2\n",
      "(2, 5)\n",
      "int32\n",
      "10\n"
     ]
    }
   ],
   "source": [
    "function(a2)"
   ]
  },
  {
   "cell_type": "code",
   "execution_count": 64,
   "id": "d1cc497d-7345-4ee5-95bc-72e2a790d8b0",
   "metadata": {},
   "outputs": [
    {
     "name": "stdout",
     "output_type": "stream",
     "text": [
      "3\n",
      "(3, 2, 5)\n",
      "int32\n",
      "30\n"
     ]
    }
   ],
   "source": [
    "function(a3)"
   ]
  },
  {
   "cell_type": "code",
   "execution_count": 65,
   "id": "985daf4a-254c-4e8a-ac30-41bed0bde4fe",
   "metadata": {},
   "outputs": [
    {
     "data": {
      "text/plain": [
       "array([1.1, 2.2, 3.3, 4.4, 5.5])"
      ]
     },
     "execution_count": 65,
     "metadata": {},
     "output_type": "execute_result"
    }
   ],
   "source": [
    "b1 = np.array([1.1,2.2,3.3,4.4,5.5])\n",
    "b1"
   ]
  },
  {
   "cell_type": "code",
   "execution_count": 66,
   "id": "dcfce632-4245-4d87-af5e-25e51ff3feae",
   "metadata": {},
   "outputs": [
    {
     "data": {
      "text/plain": [
       "array([ True, False, False,  True])"
      ]
     },
     "execution_count": 66,
     "metadata": {},
     "output_type": "execute_result"
    }
   ],
   "source": [
    "b2 = np.array([True,False,False,True])\n",
    "b2"
   ]
  },
  {
   "cell_type": "code",
   "execution_count": 67,
   "id": "239da989-946f-433d-8227-fd53eb5a2052",
   "metadata": {},
   "outputs": [
    {
     "data": {
      "text/plain": [
       "array([1, 2, 3, 4, 5])"
      ]
     },
     "execution_count": 67,
     "metadata": {},
     "output_type": "execute_result"
    }
   ],
   "source": [
    "b3 = np.array([1,2,3,4,5])\n",
    "b3"
   ]
  },
  {
   "cell_type": "code",
   "execution_count": 68,
   "id": "0d19d7f6-6d38-4829-80be-0878eb400a3f",
   "metadata": {},
   "outputs": [],
   "source": [
    "def function1(arr):\n",
    "    print(arr.itemsize)\n",
    "    print(arr.nbytes)"
   ]
  },
  {
   "cell_type": "code",
   "execution_count": 69,
   "id": "f51cc39e-26d1-4ccf-830c-4997130a6511",
   "metadata": {},
   "outputs": [
    {
     "name": "stdout",
     "output_type": "stream",
     "text": [
      "8\n",
      "40\n"
     ]
    }
   ],
   "source": [
    "function1(b1)"
   ]
  },
  {
   "cell_type": "code",
   "execution_count": 70,
   "id": "906ea243-f6f0-4529-a690-0edde62e93a1",
   "metadata": {},
   "outputs": [
    {
     "name": "stdout",
     "output_type": "stream",
     "text": [
      "1\n",
      "4\n"
     ]
    }
   ],
   "source": [
    "function1(b2)"
   ]
  },
  {
   "cell_type": "code",
   "execution_count": 73,
   "id": "d2b59132-594d-4c35-9aad-64854813b022",
   "metadata": {},
   "outputs": [
    {
     "name": "stdout",
     "output_type": "stream",
     "text": [
      "4\n",
      "20\n"
     ]
    }
   ],
   "source": [
    "function1(b3)"
   ]
  },
  {
   "cell_type": "code",
   "execution_count": 76,
   "id": "4e016119-cbbb-402a-8618-7a0a932c8e85",
   "metadata": {},
   "outputs": [
    {
     "data": {
      "text/plain": [
       "array([1, 2, 3, 4, 5], dtype=int16)"
      ]
     },
     "execution_count": 76,
     "metadata": {},
     "output_type": "execute_result"
    }
   ],
   "source": [
    "b1_to_int = b1.astype(np.int16)\n",
    "b1_to_int"
   ]
  },
  {
   "cell_type": "code",
   "execution_count": 77,
   "id": "308ca81a-9aa9-43e0-920b-fe0383a8a3cc",
   "metadata": {},
   "outputs": [
    {
     "name": "stdout",
     "output_type": "stream",
     "text": [
      "2\n",
      "10\n"
     ]
    }
   ],
   "source": [
    "function1(b1_to_int)"
   ]
  },
  {
   "cell_type": "code",
   "execution_count": null,
   "id": "0948148b-93b2-4850-aa84-e214e418a7c8",
   "metadata": {},
   "outputs": [],
   "source": []
  }
 ],
 "metadata": {
  "kernelspec": {
   "display_name": "Python 3 (ipykernel)",
   "language": "python",
   "name": "python3"
  },
  "language_info": {
   "codemirror_mode": {
    "name": "ipython",
    "version": 3
   },
   "file_extension": ".py",
   "mimetype": "text/x-python",
   "name": "python",
   "nbconvert_exporter": "python",
   "pygments_lexer": "ipython3",
   "version": "3.12.4"
  }
 },
 "nbformat": 4,
 "nbformat_minor": 5
}

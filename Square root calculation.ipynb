{
 "cells": [
  {
   "cell_type": "code",
   "execution_count": 12,
   "id": "8e2e4a39-2a4e-4fa3-9ace-552a14e7fe18",
   "metadata": {},
   "outputs": [],
   "source": [
    "import numpy as np"
   ]
  },
  {
   "cell_type": "code",
   "execution_count": 13,
   "id": "65463d39-7265-4c38-b596-cbef39290887",
   "metadata": {},
   "outputs": [
    {
     "data": {
      "text/plain": [
       "array([ 1,  2,  3,  4,  5,  6,  7,  8,  9, 10, 11, 12, 13, 14, 15])"
      ]
     },
     "execution_count": 13,
     "metadata": {},
     "output_type": "execute_result"
    }
   ],
   "source": [
    "arr = np.arange(1,16)\n",
    "arr"
   ]
  },
  {
   "cell_type": "code",
   "execution_count": 19,
   "id": "1ec78d5f-78f1-4ee5-9f90-23e09999246f",
   "metadata": {},
   "outputs": [],
   "source": [
    "arr_sqrt = np.sqrt(arr)"
   ]
  },
  {
   "cell_type": "code",
   "execution_count": 20,
   "id": "a4ec7714-2356-4185-9372-79dee6c4dc83",
   "metadata": {},
   "outputs": [
    {
     "data": {
      "text/plain": [
       "array([1.        , 1.41421356, 1.73205081, 2.        , 2.23606798,\n",
       "       2.44948974, 2.64575131, 2.82842712, 3.        , 3.16227766,\n",
       "       3.31662479, 3.46410162, 3.60555128, 3.74165739, 3.87298335])"
      ]
     },
     "execution_count": 20,
     "metadata": {},
     "output_type": "execute_result"
    }
   ],
   "source": [
    "arr_sqrt"
   ]
  },
  {
   "cell_type": "code",
   "execution_count": 26,
   "id": "dd9417a3-0590-4eb8-a31c-58794f023f25",
   "metadata": {},
   "outputs": [],
   "source": [
    "np.savetxt('square_root_results',arr,delimiter = ',')"
   ]
  },
  {
   "cell_type": "code",
   "execution_count": 27,
   "id": "1c2d891e-5380-4184-9438-500e9fef35c6",
   "metadata": {},
   "outputs": [],
   "source": [
    "np.savetxt('square_root_results',arr_sqrt,delimiter=',')"
   ]
  },
  {
   "cell_type": "code",
   "execution_count": 28,
   "id": "e2310c0f-fb8b-45a1-99bb-15015dcfd269",
   "metadata": {},
   "outputs": [],
   "source": [
    "np.savetxt('square_root_results',np.column_stack((arr,arr_sqrt)),delimiter=',',header='Original,Square Root',comments='',fmt='%d,%.2f')"
   ]
  },
  {
   "cell_type": "code",
   "execution_count": null,
   "id": "307969c0-5e67-4f7b-9f04-17933e0f2b48",
   "metadata": {},
   "outputs": [],
   "source": []
  }
 ],
 "metadata": {
  "kernelspec": {
   "display_name": "Python 3 (ipykernel)",
   "language": "python",
   "name": "python3"
  },
  "language_info": {
   "codemirror_mode": {
    "name": "ipython",
    "version": 3
   },
   "file_extension": ".py",
   "mimetype": "text/x-python",
   "name": "python",
   "nbconvert_exporter": "python",
   "pygments_lexer": "ipython3",
   "version": "3.12.4"
  }
 },
 "nbformat": 4,
 "nbformat_minor": 5
}
